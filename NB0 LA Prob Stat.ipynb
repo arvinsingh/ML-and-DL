{
 "cells": [
  {
   "cell_type": "markdown",
   "id": "791f56eb-c09a-49d9-a0b8-788ef421702b",
   "metadata": {},
   "source": [
    "# Checking for leap year"
   ]
  },
  {
   "cell_type": "code",
   "execution_count": 1,
   "id": "7916a3d6-f7a6-4c34-a3cb-4c868b59394c",
   "metadata": {},
   "outputs": [],
   "source": [
    "def is_leap(year: int) -> bool:\n",
    "    \"\"\"\n",
    "    Checks if a given year is leap year or not.\n",
    "\n",
    "    ARGUMENTS:\n",
    "    year -> check if this year is a leap year\n",
    "\n",
    "    RETURNS:\n",
    "    TRUE if leap year, FALSE otherwise\n",
    "    \"\"\"\n",
    "\n",
    "    if year % 4 != 0:\n",
    "        # year is not divisible by 4 -> common year\n",
    "        return False\n",
    "    elif year % 100 == 0 and year % 400 != 0:\n",
    "        # year is divisible by 4 and 100 but not by 400 -> common year\n",
    "        return False\n",
    "    elif year % 3200 == 0:\n",
    "        # Not widely accepted case\n",
    "        # skip leap year every 3200 years\n",
    "        return False\n",
    "    else:\n",
    "        # year is divisible by 4 -> (100 and 400) -> ~3200 -> leap year\n",
    "        return True"
   ]
  },
  {
   "cell_type": "code",
   "execution_count": 2,
   "id": "d55d3ffe-756c-4f07-b232-b619b97f5432",
   "metadata": {},
   "outputs": [
    {
     "name": "stdout",
     "output_type": "stream",
     "text": [
      "2024 is a leap year.\n",
      "2023 is a common year.\n",
      "2022 is a common year.\n",
      "2021 is a common year.\n",
      "2020 is a leap year.\n",
      "2000 is a leap year.\n",
      "1996 is a leap year.\n",
      "1900 is a common year.\n",
      "1600 is a leap year.\n",
      "0300 is a common year.\n",
      "3200 is a common year.\n",
      "6400 is a common year.\n"
     ]
    }
   ],
   "source": [
    "years = [2024, 2023, 2022, 2021, 2020, 2000, 1996, 1900, 1600, 300, 3200, 6400]\n",
    "\n",
    "for year in years:\n",
    "    if is_leap(year):\n",
    "        print(f\"{year:04} is a leap year.\")\n",
    "    else:\n",
    "        print(f\"{year:04} is a common year.\")"
   ]
  },
  {
   "cell_type": "markdown",
   "id": "d960ce76-a354-4755-a522-f569fc52dead",
   "metadata": {},
   "source": [
    "# Zeller's Congruence\n",
    "### This function calculates day of any given date"
   ]
  },
  {
   "cell_type": "code",
   "execution_count": 3,
   "id": "d3d8903b-c723-4bba-b01a-286a6cd4a876",
   "metadata": {},
   "outputs": [],
   "source": [
    "def day_on(day_of_month: int, month: int, year: int) -> int:\n",
    "    \"\"\"\n",
    "    Calculates ISO day of the week for a given date using Zeller's Congruence.\n",
    "\n",
    "    ARGUMENTS:\n",
    "    day_of_month -> date for which the day of week is to be calculated.\n",
    "    month -> given month\n",
    "    year -> given year\n",
    "\n",
    "    RETURNS:\n",
    "    an integer [1, 7] inclusive of 1 and 7, where every number relates to Mon - Sun in that order.\n",
    "    \"\"\"\n",
    "    \n",
    "    if month == 1 or month == 2:\n",
    "        # if JAN or FEB, decrease year by 1 and add 12 to month value\n",
    "        month += 12\n",
    "        year -= 1\n",
    "    year_of_century = year % 100\n",
    "    zero_based_century = year // 100\n",
    "    \n",
    "    # Congruence equation\n",
    "    day_of_week = (day_of_month\n",
    "                   + (13 * (month + 1)) // 5\n",
    "                   + year_of_century\n",
    "                   + year_of_century // 4\n",
    "                   + zero_based_century // 4\n",
    "                   - 2 * zero_based_century\n",
    "                  ) % 7\n",
    "    return ((day_of_week + 5) % 7) + 1 # convert to ISO format and return"
   ]
  },
  {
   "cell_type": "code",
   "execution_count": 4,
   "id": "f1f8e706-9feb-4582-8789-433b2baf7958",
   "metadata": {},
   "outputs": [
    {
     "data": {
      "text/plain": [
       "'Tuesday'"
      ]
     },
     "execution_count": 4,
     "metadata": {},
     "output_type": "execute_result"
    }
   ],
   "source": [
    "day_map = {1: \"Monday\",\n",
    "           2: \"Tuesday\",\n",
    "           3: \"Wednesday\",\n",
    "           4: \"Thursday\",\n",
    "           5: \"Friday\",\n",
    "           6: \"Saturday\",\n",
    "           7: \"Sunday\"\n",
    "          }\n",
    "# assertion case\n",
    "day_map[day_on(5, 2, 2019)]"
   ]
  },
  {
   "cell_type": "code",
   "execution_count": 5,
   "id": "2580bf8b-bd22-4740-aa33-df3d5f942cf3",
   "metadata": {},
   "outputs": [
    {
     "name": "stdout",
     "output_type": "stream",
     "text": [
      "Day of the week on 29/02/2016: Monday\n",
      "Day of the week on 09/02/2024: Friday\n",
      "Day of the week on 13/07/2020: Monday\n",
      "Day of the week on 01/08/1996: Thursday\n"
     ]
    }
   ],
   "source": [
    "# date format: [day, month, year]\n",
    "dates = [[29, 2, 2016], [9, 2, 2024], [13, 7, 2020], [1, 8, 1996]]\n",
    "for date in dates:\n",
    "    day = day_on(date[0], \n",
    "                 date[1], \n",
    "                 date[2]\n",
    "                )\n",
    "    print(f\"Day of the week on {date[0]:02}/{date[1]:02}/{date[2]:04}: {day_map[day]}\")"
   ]
  },
  {
   "cell_type": "markdown",
   "id": "0f47618a-7b68-425b-87e2-1c0ccdc37e96",
   "metadata": {},
   "source": [
    "# Print calendar of the year"
   ]
  },
  {
   "cell_type": "code",
   "execution_count": 6,
   "id": "0f75e8a2-ec95-433d-9d91-938118cc3d46",
   "metadata": {},
   "outputs": [],
   "source": [
    "month_map = {1: [\"Jan\", 31], 2: [\"Feb\", 28], 3: [\"Mar\", 31], 4: [\"Apr\", 30],\n",
    "             5: [\"May\", 31], 6: [\"Jun\", 30], 7: [\"Jul\", 31], 8: [\"Aug\", 31],\n",
    "             9: [\"Sep\", 30], 10: [\"Oct\", 31], 11: [\"Nov\", 30], 12: [\"Dec\", 31]\n",
    "            }"
   ]
  },
  {
   "cell_type": "code",
   "execution_count": 7,
   "id": "34547c30-e5b6-47c0-8a1e-6bb9a755359d",
   "metadata": {},
   "outputs": [],
   "source": [
    "def calendar_of_year(year: int, month_map:dict = month_map) -> None:\n",
    "    \"\"\"\n",
    "    This function repeatedly calls print_calendar function to print calendar for each month.\n",
    "    \n",
    "    ARGUMENTS:\n",
    "    year -> print calendar of this year\n",
    "    month_map -> gives numeric value to months and with total number of days in that specific month\n",
    "\n",
    "    RETURNS:\n",
    "    NONE\n",
    "    \"\"\"\n",
    "\n",
    "    if is_leap(year):\n",
    "        # if leap year, change number of days in February\n",
    "        month_map[2][1] = 29\n",
    "    \n",
    "    for n, month in month_map.items():\n",
    "        # get the day of the week on which the month starts\n",
    "        start_of_month = day_on(1, n, year)\n",
    "        # call print_calendar function for the month\n",
    "        print_calendar(start_of_month, month[0], month[1], year)\n",
    "\n",
    "\n",
    "def print_calendar(start_of_month: int, month_name: str, end_date: int, year: int) -> None:\n",
    "    \"\"\"\n",
    "    This function prints calendar of a given month and year.\n",
    "\n",
    "    ARGUMENTS:\n",
    "    start_of_month -> the day of the week on which the month begin.\n",
    "    month_name -> name of the month.\n",
    "    end_date -> number of days in that month.\n",
    "    year -> year for which the calendar is being prints.\n",
    "\n",
    "    RETURNS:\n",
    "    NONE\n",
    "    \"\"\"\n",
    "    # date starts from 1\n",
    "    curr = 1 \n",
    "    # print heading and subheading\n",
    "    print(f\"{month_name:>12} {year}\\n\")\n",
    "    print(f\"Mon Tue Wed Thu Fri Sat Sun\\n\")\n",
    "\n",
    "    # loop through days per week of a month\n",
    "    for i in range(6):\n",
    "        # printing weeks\n",
    "        \n",
    "        print(\" \", end=\"\")\n",
    "        for j in range(1, 8):\n",
    "            # printing dates of a week\n",
    "            \n",
    "            if curr > end_date:\n",
    "                # if current date is greater than end date of month, stop printing\n",
    "                break\n",
    "            if i == 0 and j >= start_of_month:\n",
    "                # for first week, find where to start printing dates\n",
    "                print(f\"{curr:02}  \", end = \"\")\n",
    "                curr += 1\n",
    "            elif i == 0 and j < start_of_month:\n",
    "                # insert bland spaces before start date of first week\n",
    "                print(f\"{' ':4}\", end = \"\")\n",
    "            elif i != 0:\n",
    "                # print dates for every other week\n",
    "                print(f\"{curr:02}  \", end = \"\")\n",
    "                curr += 1\n",
    "        print(f\"\\n\")"
   ]
  },
  {
   "cell_type": "code",
   "execution_count": 8,
   "id": "476cd637-f1f5-41cf-b9a0-553febf25e63",
   "metadata": {},
   "outputs": [
    {
     "name": "stdout",
     "output_type": "stream",
     "text": [
      "         Feb 2024\n",
      "\n",
      "Mon Tue Wed Thu Fri Sat Sun\n",
      "\n",
      "             01  02  03  04  \n",
      "\n",
      " 05  06  07  08  09  10  11  \n",
      "\n",
      " 12  13  14  15  16  17  18  \n",
      "\n",
      " 19  20  21  22  23  24  25  \n",
      "\n",
      " 26  27  28  29  \n",
      "\n",
      " \n",
      "\n"
     ]
    }
   ],
   "source": [
    "# sanity check\n",
    "print_calendar(4, \"Feb\", 29, 2024)"
   ]
  },
  {
   "cell_type": "code",
   "execution_count": 9,
   "id": "4ed84728-1e14-42b4-a47c-df17f621010f",
   "metadata": {
    "scrolled": true
   },
   "outputs": [
    {
     "name": "stdout",
     "output_type": "stream",
     "text": [
      "         Jan 2024\n",
      "\n",
      "Mon Tue Wed Thu Fri Sat Sun\n",
      "\n",
      " 01  02  03  04  05  06  07  \n",
      "\n",
      " 08  09  10  11  12  13  14  \n",
      "\n",
      " 15  16  17  18  19  20  21  \n",
      "\n",
      " 22  23  24  25  26  27  28  \n",
      "\n",
      " 29  30  31  \n",
      "\n",
      " \n",
      "\n",
      "         Feb 2024\n",
      "\n",
      "Mon Tue Wed Thu Fri Sat Sun\n",
      "\n",
      "             01  02  03  04  \n",
      "\n",
      " 05  06  07  08  09  10  11  \n",
      "\n",
      " 12  13  14  15  16  17  18  \n",
      "\n",
      " 19  20  21  22  23  24  25  \n",
      "\n",
      " 26  27  28  29  \n",
      "\n",
      " \n",
      "\n",
      "         Mar 2024\n",
      "\n",
      "Mon Tue Wed Thu Fri Sat Sun\n",
      "\n",
      "                 01  02  03  \n",
      "\n",
      " 04  05  06  07  08  09  10  \n",
      "\n",
      " 11  12  13  14  15  16  17  \n",
      "\n",
      " 18  19  20  21  22  23  24  \n",
      "\n",
      " 25  26  27  28  29  30  31  \n",
      "\n",
      " \n",
      "\n",
      "         Apr 2024\n",
      "\n",
      "Mon Tue Wed Thu Fri Sat Sun\n",
      "\n",
      " 01  02  03  04  05  06  07  \n",
      "\n",
      " 08  09  10  11  12  13  14  \n",
      "\n",
      " 15  16  17  18  19  20  21  \n",
      "\n",
      " 22  23  24  25  26  27  28  \n",
      "\n",
      " 29  30  \n",
      "\n",
      " \n",
      "\n",
      "         May 2024\n",
      "\n",
      "Mon Tue Wed Thu Fri Sat Sun\n",
      "\n",
      "         01  02  03  04  05  \n",
      "\n",
      " 06  07  08  09  10  11  12  \n",
      "\n",
      " 13  14  15  16  17  18  19  \n",
      "\n",
      " 20  21  22  23  24  25  26  \n",
      "\n",
      " 27  28  29  30  31  \n",
      "\n",
      " \n",
      "\n",
      "         Jun 2024\n",
      "\n",
      "Mon Tue Wed Thu Fri Sat Sun\n",
      "\n",
      "                     01  02  \n",
      "\n",
      " 03  04  05  06  07  08  09  \n",
      "\n",
      " 10  11  12  13  14  15  16  \n",
      "\n",
      " 17  18  19  20  21  22  23  \n",
      "\n",
      " 24  25  26  27  28  29  30  \n",
      "\n",
      " \n",
      "\n",
      "         Jul 2024\n",
      "\n",
      "Mon Tue Wed Thu Fri Sat Sun\n",
      "\n",
      " 01  02  03  04  05  06  07  \n",
      "\n",
      " 08  09  10  11  12  13  14  \n",
      "\n",
      " 15  16  17  18  19  20  21  \n",
      "\n",
      " 22  23  24  25  26  27  28  \n",
      "\n",
      " 29  30  31  \n",
      "\n",
      " \n",
      "\n",
      "         Aug 2024\n",
      "\n",
      "Mon Tue Wed Thu Fri Sat Sun\n",
      "\n",
      "             01  02  03  04  \n",
      "\n",
      " 05  06  07  08  09  10  11  \n",
      "\n",
      " 12  13  14  15  16  17  18  \n",
      "\n",
      " 19  20  21  22  23  24  25  \n",
      "\n",
      " 26  27  28  29  30  31  \n",
      "\n",
      " \n",
      "\n",
      "         Sep 2024\n",
      "\n",
      "Mon Tue Wed Thu Fri Sat Sun\n",
      "\n",
      "                         01  \n",
      "\n",
      " 02  03  04  05  06  07  08  \n",
      "\n",
      " 09  10  11  12  13  14  15  \n",
      "\n",
      " 16  17  18  19  20  21  22  \n",
      "\n",
      " 23  24  25  26  27  28  29  \n",
      "\n",
      " 30  \n",
      "\n",
      "         Oct 2024\n",
      "\n",
      "Mon Tue Wed Thu Fri Sat Sun\n",
      "\n",
      "     01  02  03  04  05  06  \n",
      "\n",
      " 07  08  09  10  11  12  13  \n",
      "\n",
      " 14  15  16  17  18  19  20  \n",
      "\n",
      " 21  22  23  24  25  26  27  \n",
      "\n",
      " 28  29  30  31  \n",
      "\n",
      " \n",
      "\n",
      "         Nov 2024\n",
      "\n",
      "Mon Tue Wed Thu Fri Sat Sun\n",
      "\n",
      "                 01  02  03  \n",
      "\n",
      " 04  05  06  07  08  09  10  \n",
      "\n",
      " 11  12  13  14  15  16  17  \n",
      "\n",
      " 18  19  20  21  22  23  24  \n",
      "\n",
      " 25  26  27  28  29  30  \n",
      "\n",
      " \n",
      "\n",
      "         Dec 2024\n",
      "\n",
      "Mon Tue Wed Thu Fri Sat Sun\n",
      "\n",
      "                         01  \n",
      "\n",
      " 02  03  04  05  06  07  08  \n",
      "\n",
      " 09  10  11  12  13  14  15  \n",
      "\n",
      " 16  17  18  19  20  21  22  \n",
      "\n",
      " 23  24  25  26  27  28  29  \n",
      "\n",
      " 30  31  \n",
      "\n"
     ]
    }
   ],
   "source": [
    "calendar_of_year(2024)"
   ]
  },
  {
   "cell_type": "markdown",
   "id": "7cb24860-8fb7-4cd7-b407-bd078deea82f",
   "metadata": {},
   "source": [
    "# Linear Algebra"
   ]
  },
  {
   "cell_type": "code",
   "execution_count": 10,
   "id": "33269191-07b1-47b6-967e-567800b15935",
   "metadata": {},
   "outputs": [],
   "source": [
    "# import dependencies\n",
    "import numpy as np\n",
    "import matplotlib.pyplot as plt"
   ]
  },
  {
   "cell_type": "code",
   "execution_count": 11,
   "id": "107ce303-b673-421c-b4fa-54bba961e506",
   "metadata": {},
   "outputs": [],
   "source": [
    "# matrices\n",
    "A = np.array([[2, -1],\n",
    "              [-1, 2]]\n",
    "            )\n",
    "B = np.array([0, 3]).T"
   ]
  },
  {
   "cell_type": "markdown",
   "id": "c32c29e8-291d-493b-aaca-70a494d2cd24",
   "metadata": {},
   "source": [
    "Method 1: Solving for X using NumPy solver"
   ]
  },
  {
   "cell_type": "code",
   "execution_count": 12,
   "id": "514db710-2828-43c0-9991-bf2bdbfe4ad5",
   "metadata": {},
   "outputs": [
    {
     "data": {
      "text/plain": [
       "array([1., 2.])"
      ]
     },
     "execution_count": 12,
     "metadata": {},
     "output_type": "execute_result"
    }
   ],
   "source": [
    "X = np.linalg.solve(A, B)\n",
    "X"
   ]
  },
  {
   "cell_type": "markdown",
   "id": "48a651e8-759e-449d-aab3-025c506a67b5",
   "metadata": {},
   "source": [
    "Method 2: Solving for X using inverse of A: X = A_inv @ B"
   ]
  },
  {
   "cell_type": "code",
   "execution_count": 13,
   "id": "004319e6-6a55-4093-afa7-90d1ac3e37cc",
   "metadata": {},
   "outputs": [
    {
     "data": {
      "text/plain": [
       "array([1., 2.])"
      ]
     },
     "execution_count": 13,
     "metadata": {},
     "output_type": "execute_result"
    }
   ],
   "source": [
    "X = np.linalg.inv(A) @ B\n",
    "X"
   ]
  },
  {
   "cell_type": "code",
   "execution_count": 14,
   "id": "8c65ba33-f72d-480b-aaf6-ad90bac97929",
   "metadata": {},
   "outputs": [
    {
     "data": {
      "text/plain": [
       "array([ True,  True])"
      ]
     },
     "execution_count": 14,
     "metadata": {},
     "output_type": "execute_result"
    }
   ],
   "source": [
    "# Sanity check\n",
    "A @ X == B"
   ]
  },
  {
   "cell_type": "markdown",
   "id": "d5c6e891-e126-45a0-831b-5631ab79f02d",
   "metadata": {},
   "source": [
    "Given X, solve for B using linear combination of column vectors of matrix A"
   ]
  },
  {
   "cell_type": "code",
   "execution_count": 15,
   "id": "e3d18977-b08f-49d2-b7e2-c08ccf01d8f6",
   "metadata": {},
   "outputs": [],
   "source": [
    "def linear_combo(A: np.array([]), X: np.array([])) -> None:\n",
    "    \"\"\"\n",
    "    Calculates linear combination of A scaled by X\n",
    "    \n",
    "    PARAMETERS:\n",
    "    A -> 2x2 matrix\n",
    "    X -> 1x2 vector\n",
    "    \n",
    "    RETURNS:\n",
    "    NONE\n",
    "    \"\"\"\n",
    "    return np.array([X[0] * A[:,0] + X[1] * A[:, 1]]).squeeze()"
   ]
  },
  {
   "cell_type": "code",
   "execution_count": 16,
   "id": "af7b3e61-3a13-4f70-8e55-413fcc7a6bfe",
   "metadata": {},
   "outputs": [
    {
     "data": {
      "text/plain": [
       "array([ True,  True])"
      ]
     },
     "execution_count": 16,
     "metadata": {},
     "output_type": "execute_result"
    }
   ],
   "source": [
    "# Sanity check\n",
    "linear_combo(A, X) == B "
   ]
  },
  {
   "cell_type": "code",
   "execution_count": 17,
   "id": "3fee3bef-773f-48fd-9d7d-f466423d95ab",
   "metadata": {},
   "outputs": [],
   "source": [
    "def plot_combo(A: np.array([]), X: np.array([])) -> None:\n",
    "    \"\"\"\n",
    "    Plots linear combination of A scaled by X\n",
    "    \n",
    "    PARAMETERS:\n",
    "    A -> 2x2 matrix\n",
    "    X -> 1x2 vector\n",
    "    \n",
    "    RETURNS:\n",
    "    NONE\n",
    "    \"\"\"\n",
    "    \n",
    "    plt.figure(figsize=(7, 5))\n",
    "    linear_comb = linear_combo(A, X)\n",
    "    \n",
    "    scaled_ax0 = np.array([X[0] * A[0, 0], X[0] * A[1, 0]])\n",
    "    scaled_ax1 = np.array([X[1] * A[0, 1], X[1] * A[1, 1]])\n",
    "    \n",
    "    plt.plot([0, A[0,0]], \n",
    "             [0, A[1, 0]], \n",
    "             c=\"blue\", \n",
    "             label=\"AV1 vector\"\n",
    "            )\n",
    "    plt.plot([0, A[0,1]], \n",
    "             [0, A[1, 1]], \n",
    "             c=\"green\", \n",
    "             label=\"AV2 vector\"\n",
    "            )\n",
    "    plt.plot([0, scaled_ax0[0]], \n",
    "             [0, scaled_ax0[1]], \n",
    "             c=\"black\", \n",
    "             label=\"AV1 vector scaled by X0\"\n",
    "            )\n",
    "    plt.plot(np.array([0, scaled_ax1[0]]) + scaled_ax0[0], \n",
    "             np.array([0, scaled_ax1[1]]) + scaled_ax0[1], \n",
    "             c=\"yellow\", \n",
    "             label=\"AV2 vector scaled by X1\"\n",
    "            )\n",
    "    plt.plot([0, linear_comb[0]], \n",
    "             [0, linear_comb[1]], \n",
    "             c=\"red\", \n",
    "             label=\"Linear Combination\"\n",
    "            )\n",
    "    \n",
    "    plt.legend()\n",
    "    plt.grid()\n",
    "    plt.show()"
   ]
  },
  {
   "cell_type": "code",
   "execution_count": 18,
   "id": "2518cb77-ba85-4b5b-a0f9-3a3423355e04",
   "metadata": {},
   "outputs": [
    {
     "data": {
      "image/png": "[encoded data removed]",
      "text/plain": [
       "<Figure size 700x500 with 1 Axes>"
      ]
     },
     "metadata": {},
     "output_type": "display_data"
    }
   ],
   "source": [
    "plot_combo(A, X)"
   ]
  },
  {
   "cell_type": "code",
   "execution_count": 19,
   "id": "2d31de66-0652-4bd5-8696-8ec1c333a5c7",
   "metadata": {},
   "outputs": [],
   "source": [
    "def custom_solver(A: np.array([]), B: np.array([])) -> None:\n",
    "    \"\"\"\n",
    "    Solves AX = B for X and plots linear combination graph\n",
    "    \n",
    "    PARAMETERS:\n",
    "    A -> 2x2 matrix\n",
    "    B -> 1x2 solution vector\n",
    "    \n",
    "    RETURNS:\n",
    "    NONE\n",
    "    \"\"\"\n",
    "    X = np.linalg.solve(A, B)\n",
    "    plot_combo(A, X)"
   ]
  },
  {
   "cell_type": "code",
   "execution_count": 20,
   "id": "5b1a1b70-ee58-4904-9db4-e6ffd49a515c",
   "metadata": {},
   "outputs": [
    {
     "data": {
      "image/png": "[encoded data removed]",
      "text/plain": [
       "<Figure size 700x500 with 1 Axes>"
      ]
     },
     "metadata": {},
     "output_type": "display_data"
    }
   ],
   "source": [
    "# example in the Lab sheet\n",
    "new_B = [-1, 3]\n",
    "custom_solver(A, new_B)"
   ]
  },
  {
   "cell_type": "markdown",
   "id": "c9e73dc0-55c5-45cb-a263-7d5b30c6ec26",
   "metadata": {},
   "source": [
    "# Probability and Statistics"
   ]
  },
  {
   "cell_type": "code",
   "execution_count": 21,
   "id": "63854e6c-ae83-488e-931b-4166af53f14a",
   "metadata": {},
   "outputs": [],
   "source": [
    "# import dependencies\n",
    "import random"
   ]
  },
  {
   "cell_type": "code",
   "execution_count": 22,
   "id": "5336ff87-e4be-4dc2-8978-958e00749291",
   "metadata": {},
   "outputs": [],
   "source": [
    "def Binomial(n: int, p: float) -> int:\n",
    "    \"\"\"\n",
    "    Conducts n number of trials with p probability of success\n",
    "    where success is the measures of drawning a ball of desired \n",
    "    color from the bag.\n",
    "\n",
    "    ARGUMENTS:\n",
    "    n -> Number of times the ball needs to be drawn with replacement\n",
    "    p -> Probability of drawning the right ball.\n",
    "\n",
    "    RETURNS:\n",
    "    number of success or number of times the right ball was drawn from the bag\n",
    "    \"\"\"\n",
    "    success = 0\n",
    "    c = random.randint(1, 101)\n",
    "    for i in range(n):\n",
    "        draw_prob = random.randint(1, 101)\n",
    "        if draw_prob < p * 100:\n",
    "            success += 1\n",
    "    return success    "
   ]
  },
  {
   "cell_type": "code",
   "execution_count": 23,
   "id": "d04e8271",
   "metadata": {},
   "outputs": [],
   "source": [
    "def histogram(n: int, p: float, trials: int) -> None:\n",
    "    \"\"\"\n",
    "    Plots histogram of the number of success in each trial.\n",
    "\n",
    "    ARGUMENTS:\n",
    "    n -> Number of times the ball needs to be drawn with replacement\n",
    "    p -> Probability of drawning the right ball.\n",
    "    trials -> Number of trials to be conducted.\n",
    "\n",
    "    RETURNS:\n",
    "    NONE\n",
    "    \"\"\"\n",
    "    results = [Binomial(n, p) for _ in range(trials)]\n",
    "    plt.hist(results, bins=range(n+2), align=\"left\")\n",
    "    plt.xlabel(\"Number of Success\")\n",
    "    plt.ylabel(\"Frequency\")\n",
    "    plt.title(f\"Binomial Distribution of {trials} trials, n={n}, p={p}\")\n",
    "    plt.show()"
   ]
  },
  {
   "cell_type": "code",
   "execution_count": 24,
   "id": "58624958",
   "metadata": {},
   "outputs": [
    {
     "data": {
      "image/png": "[encoded data removed]",
      "text/plain": [
       "<Figure size 640x480 with 1 Axes>"
      ]
     },
     "metadata": {},
     "output_type": "display_data"
    }
   ],
   "source": [
    "# sanity check\n",
    "histogram(50, 0.5, 1000000)"
   ]
  },
  {
   "cell_type": "code",
   "execution_count": 25,
   "id": "66e34fc7",
   "metadata": {},
   "outputs": [],
   "source": [
    "n = 10\n",
    "p = 0.7\n",
    "NUM_TRIALS = 10000"
   ]
  },
  {
   "cell_type": "code",
   "execution_count": 26,
   "id": "2b127604",
   "metadata": {},
   "outputs": [
    {
     "data": {
      "image/png": "[encoded data removed]",
      "text/plain": [
       "<Figure size 640x480 with 1 Axes>"
      ]
     },
     "metadata": {},
     "output_type": "display_data"
    }
   ],
   "source": [
    "# call histogram function to plot the distribution\n",
    "histogram(n, p, NUM_TRIALS)"
   ]
  }
 ],
 "metadata": {
  "kernelspec": {
   "display_name": "Python 3 (ipykernel)",
   "language": "python",
   "name": "python3"
  },
  "language_info": {
   "codemirror_mode": {
    "name": "ipython",
    "version": 3
   },
   "file_extension": ".py",
   "mimetype": "text/x-python",
   "name": "python",
   "nbconvert_exporter": "python",
   "pygments_lexer": "ipython3",
   "version": "3.11.5"
  }
 },
 "nbformat": 4,
 "nbformat_minor": 5
}
